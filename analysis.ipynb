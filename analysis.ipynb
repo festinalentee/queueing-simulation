{
 "cells": [
  {
   "cell_type": "code",
   "execution_count": 1,
   "metadata": {},
   "outputs": [],
   "source": [
    "import matplotlib.pyplot as plt\n",
    "import os\n",
    "import json\n",
    "import numpy as np\n",
    "from prettytable import PrettyTable"
   ]
  },
  {
   "cell_type": "code",
   "execution_count": 2,
   "metadata": {},
   "outputs": [],
   "source": [
    "def read_all_experiments_data():\n",
    "    folder_path = './experiments/'\n",
    "    combined_data = {}\n",
    "\n",
    "    for filename in os.listdir(folder_path):\n",
    "        if filename.endswith('.json'):\n",
    "            file_path = os.path.join(folder_path, filename)\n",
    "            with open(file_path, 'r') as file:\n",
    "                data = json.load(file)\n",
    "                key = filename[:-5]\n",
    "                combined_data[key] = data\n",
    "    \n",
    "    return combined_data\n",
    "\n",
    "def read_experiment_data(file_name):\n",
    "    folder_path = './experiments/'\n",
    "    file_path = os.path.join(folder_path, file_name)\n",
    "\n",
    "    if os.path.exists(file_path):\n",
    "        with open(file_path, 'r') as file:\n",
    "            data = json.load(file)\n",
    "    else:\n",
    "        print(f\"File '{file_name}' does not exist.\")\n",
    "    \n",
    "    return data"
   ]
  },
  {
   "cell_type": "code",
   "execution_count": 25,
   "metadata": {},
   "outputs": [],
   "source": [
    "def plot(data):\n",
    "\n",
    "    plt.figure(figsize=(14, 7))\n",
    "    table = PrettyTable()\n",
    "    table.field_names = [\"Arrival Rate\", \"Avg Time Spent\", \"Max Time Spent\", \"Avg Queue Size\"]\n",
    "\n",
    "    \n",
    "    for arrival_rate in ['0.5', '0.7', '0.8', '0.9', '0.95', '0.99', '0.999']:\n",
    "        \n",
    "        avg_time_spent = np.mean(data[arrival_rate]['avg_time_spent'])\n",
    "        max_time_spent = np.mean(data[arrival_rate]['max_time_spent'])\n",
    "        avg_queue_size = np.mean(data[arrival_rate]['avg_queue_size'])\n",
    "        \n",
    "        table.add_row([arrival_rate, avg_time_spent, max_time_spent, avg_queue_size])\n",
    "\n",
    "        #data[arrival_rate]['avg_time_spent'].sort()\n",
    "        plt.plot(data[arrival_rate]['avg_time_spent'], label=f'lambda: {arrival_rate}')\n",
    "\n",
    "    table.align = \"r\"\n",
    "    table.float_format = \".2\"\n",
    "\n",
    "    print(table)\n",
    "\n",
    "    plt.xticks(fontproperties='Arial', fontsize=9)\n",
    "    plt.yticks(fontproperties='Arial', fontsize=9)\n",
    "    plt.xlabel('Experiment', fontsize='9')\n",
    "    plt.ylabel('Average time spent in the system', fontsize='9')\n",
    "    #plt.title('Average Time Spent vs. Time')\n",
    "    plt.legend(fontsize='9')\n",
    "    plt.show()\n",
    "    \n",
    "    plt.figure(figsize=(14, 7))\n",
    "    for arrival_rate in ['0.5', '0.7', '0.8', '0.9', '0.95', '0.99', '0.999']:\n",
    "        data[arrival_rate]['server_speed_to_load'].sort(key=lambda x: x[0])\n",
    "        plt.scatter(*zip(*data[arrival_rate]['server_speed_to_load']), s=2, label=f'lambda: {arrival_rate}')\n",
    "\n",
    "    plt.xticks(fontproperties='Arial', fontsize=9)\n",
    "    plt.yticks(fontproperties='Arial', fontsize=9)\n",
    "    plt.xlabel('Server speed', fontsize='9')\n",
    "    plt.ylabel('Server load', fontsize='9')\n",
    "    #plt.title('Average Time Spent vs. Time')\n",
    "    plt.legend(fontsize='9')\n",
    "    plt.show()\n",
    "        "
   ]
  },
  {
   "attachments": {},
   "cell_type": "markdown",
   "metadata": {},
   "source": [
    "# Pierwszy scenariusz"
   ]
  },
  {
   "attachments": {},
   "cell_type": "markdown",
   "metadata": {},
   "source": [
    "### Identyczne serwery i zadania"
   ]
  },
  {
   "attachments": {},
   "cell_type": "markdown",
   "metadata": {},
   "source": [
    "#### a) jednostajny wybór serwera"
   ]
  },
  {
   "cell_type": "code",
   "execution_count": 1,
   "metadata": {},
   "outputs": [
    {
     "ename": "NameError",
     "evalue": "name 'plot' is not defined",
     "output_type": "error",
     "traceback": [
      "\u001b[1;31m---------------------------------------------------------------------------\u001b[0m",
      "\u001b[1;31mNameError\u001b[0m                                 Traceback (most recent call last)",
      "\u001b[1;32mc:\\Users\\Karo\\Documents\\STUDIA\\magisterka\\queueing-simulation\\analysis.ipynb Cell 7\u001b[0m in \u001b[0;36m1\n\u001b[1;32m----> <a href='vscode-notebook-cell:/c%3A/Users/Karo/Documents/STUDIA/magisterka/queueing-simulation/analysis.ipynb#W6sZmlsZQ%3D%3D?line=0'>1</a>\u001b[0m plot(read_experiment_data(\u001b[39m'\u001b[39m\u001b[39ms1_uss.json\u001b[39m\u001b[39m'\u001b[39m))\n",
      "\u001b[1;31mNameError\u001b[0m: name 'plot' is not defined"
     ]
    }
   ],
   "source": [
    "plot(read_experiment_data('s1_uss.json'))"
   ]
  },
  {
   "attachments": {},
   "cell_type": "markdown",
   "metadata": {},
   "source": [
    "#### b) wybór mniej obciążonego z 2 jednostajnie wybranych serwerów"
   ]
  },
  {
   "cell_type": "code",
   "execution_count": null,
   "metadata": {},
   "outputs": [],
   "source": [
    "plot(read_experiment_data('s1_uss_d2.json'))"
   ]
  },
  {
   "attachments": {},
   "cell_type": "markdown",
   "metadata": {},
   "source": [
    "#### c) wybór mniej obciążonego z d jednostajnie wybranych serwerów"
   ]
  },
  {
   "cell_type": "code",
   "execution_count": null,
   "metadata": {},
   "outputs": [],
   "source": [
    "plot(read_experiment_data('s1_uss_d3.json'))"
   ]
  },
  {
   "cell_type": "code",
   "execution_count": null,
   "metadata": {},
   "outputs": [],
   "source": [
    "plot(read_experiment_data('s1_uss_d5.json'))"
   ]
  },
  {
   "attachments": {},
   "cell_type": "markdown",
   "metadata": {},
   "source": [
    "# Drugi scenariusz"
   ]
  },
  {
   "attachments": {},
   "cell_type": "markdown",
   "metadata": {},
   "source": [
    "### Serwery o różnej szybkości, takie same zadania"
   ]
  },
  {
   "attachments": {},
   "cell_type": "markdown",
   "metadata": {},
   "source": [
    "#### a) jednostajny wybór serwera"
   ]
  },
  {
   "cell_type": "code",
   "execution_count": null,
   "metadata": {},
   "outputs": [],
   "source": [
    "plot(read_experiment_data('s2_uss.json'))"
   ]
  },
  {
   "attachments": {},
   "cell_type": "markdown",
   "metadata": {},
   "source": [
    "#### b) wybór mniej obciążonego z 2 jednostajnie wybranych serwerów"
   ]
  },
  {
   "cell_type": "code",
   "execution_count": null,
   "metadata": {},
   "outputs": [],
   "source": [
    "plot(read_experiment_data('s2_uss_d2.json'))"
   ]
  },
  {
   "attachments": {},
   "cell_type": "markdown",
   "metadata": {},
   "source": [
    "#### c) wybór mniej obciążonego z d jednostajnie wybranych serwerów"
   ]
  },
  {
   "cell_type": "code",
   "execution_count": null,
   "metadata": {},
   "outputs": [],
   "source": [
    "plot(read_experiment_data('s2_uss_d3.json'))"
   ]
  },
  {
   "cell_type": "code",
   "execution_count": null,
   "metadata": {},
   "outputs": [],
   "source": [
    "plot(read_experiment_data('s2_uss_d4.json'))"
   ]
  },
  {
   "cell_type": "code",
   "execution_count": null,
   "metadata": {},
   "outputs": [],
   "source": [
    "plot(read_experiment_data('s2_uss_d5.json'))"
   ]
  },
  {
   "attachments": {},
   "cell_type": "markdown",
   "metadata": {},
   "source": [
    "#### d) wybór mniej obciążonego z 2 niejednostajnie wybranych serwerów"
   ]
  },
  {
   "attachments": {},
   "cell_type": "markdown",
   "metadata": {},
   "source": [
    "#### e) wybór mniej obciążonego z d niejednostajnie wybranych serwerów"
   ]
  },
  {
   "attachments": {},
   "cell_type": "markdown",
   "metadata": {},
   "source": [
    "# Trzeci scenariusz"
   ]
  },
  {
   "attachments": {},
   "cell_type": "markdown",
   "metadata": {},
   "source": [
    "### Serwery o różnej szybkości, różne zadania"
   ]
  },
  {
   "attachments": {},
   "cell_type": "markdown",
   "metadata": {},
   "source": [
    "#### a) jednostajny wybór serwera"
   ]
  },
  {
   "attachments": {},
   "cell_type": "markdown",
   "metadata": {},
   "source": [
    "#### b) wybór mniej obciążonego z 2 jednostajnie wybranych serwerów"
   ]
  },
  {
   "attachments": {},
   "cell_type": "markdown",
   "metadata": {},
   "source": [
    "#### c) wybór mniej obciążonego z d jednostajnie wybranych serwerów"
   ]
  },
  {
   "attachments": {},
   "cell_type": "markdown",
   "metadata": {},
   "source": [
    "#### d) wybór mniej obciążonego z 2 niejednostajnie wybranych serwerów"
   ]
  },
  {
   "attachments": {},
   "cell_type": "markdown",
   "metadata": {},
   "source": [
    "#### e) wybór mniej obciążonego z d niejednostajnie wybranych serwerów"
   ]
  }
 ],
 "metadata": {
  "kernelspec": {
   "display_name": "Python 3",
   "language": "python",
   "name": "python3"
  },
  "language_info": {
   "codemirror_mode": {
    "name": "ipython",
    "version": 3
   },
   "file_extension": ".py",
   "mimetype": "text/x-python",
   "name": "python",
   "nbconvert_exporter": "python",
   "pygments_lexer": "ipython3",
   "version": "3.10.11"
  },
  "orig_nbformat": 4
 },
 "nbformat": 4,
 "nbformat_minor": 2
}
